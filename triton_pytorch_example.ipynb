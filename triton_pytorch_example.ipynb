{
 "cells": [
  {
   "cell_type": "code",
   "execution_count": 1,
   "id": "f303d782",
   "metadata": {},
   "outputs": [],
   "source": [
    "import torch"
   ]
  },
  {
   "cell_type": "markdown",
   "id": "9d5923d3",
   "metadata": {},
   "source": [
    "### Example"
   ]
  },
  {
   "cell_type": "code",
   "execution_count": 30,
   "id": "d2ff19bb",
   "metadata": {},
   "outputs": [],
   "source": [
    "pid_A = 0\n",
    "pid_B = 1\n",
    "\n",
    "BLOCK_SIZE_A = 4\n",
    "BLOCK_SIZE_B = 6\n",
    "BLOCK_SIZE_D = 2"
   ]
  },
  {
   "cell_type": "code",
   "execution_count": 33,
   "id": "4b25e498",
   "metadata": {},
   "outputs": [],
   "source": [
    "B = 12\n",
    "A = 8\n",
    "D = 4"
   ]
  },
  {
   "cell_type": "code",
   "execution_count": 36,
   "id": "2ec05b90",
   "metadata": {},
   "outputs": [],
   "source": [
    "tensor_a = torch.rand(A, D)\n",
    "tensor_b = torch.rand(D, B)\n",
    "tensor_c = torch.empty((A, B))"
   ]
  },
  {
   "cell_type": "code",
   "execution_count": 37,
   "id": "21d06fd1",
   "metadata": {},
   "outputs": [
    {
     "data": {
      "text/plain": [
       "(tensor([[0.1373, 0.7348, 0.4368, 0.5475],\n",
       "         [0.8483, 0.1495, 0.0260, 0.6770],\n",
       "         [0.2306, 0.4092, 0.9679, 0.7157],\n",
       "         [0.5682, 0.4072, 0.8114, 0.1402],\n",
       "         [0.7619, 0.2217, 0.2537, 0.1926],\n",
       "         [0.4510, 0.1049, 0.2820, 0.9318],\n",
       "         [0.6456, 0.8339, 0.3056, 0.5064],\n",
       "         [0.0432, 0.9534, 0.0015, 0.0988]]),\n",
       " tensor([[0.7508, 0.6766, 0.3780, 0.5883, 0.5127, 0.2102, 0.3844, 0.0625, 0.7391,\n",
       "          0.2624, 0.0713, 0.4755],\n",
       "         [0.3398, 0.6220, 0.3097, 0.9338, 0.4334, 0.6573, 0.1698, 0.1777, 0.8217,\n",
       "          0.7828, 0.9970, 0.6746],\n",
       "         [0.0518, 0.7745, 0.6985, 0.2000, 0.2051, 0.2398, 0.6945, 0.9568, 0.1969,\n",
       "          0.3315, 0.9353, 0.6073],\n",
       "         [0.8250, 0.6915, 0.5485, 0.5870, 0.0683, 0.7842, 0.4909, 0.6290, 0.9622,\n",
       "          0.9800, 0.3739, 0.8674]]),\n",
       " tensor([[0., 0., 0., 0., 0., 0., 0., 0., 0., 0., 0., 0.],\n",
       "         [0., 0., 0., 0., 0., 0., 0., 0., 0., 0., 0., 0.],\n",
       "         [0., 0., 0., 0., 0., 0., 0., 0., 0., 0., 0., 0.],\n",
       "         [0., 0., 0., 0., 0., 0., 0., 0., 0., 0., 0., 0.],\n",
       "         [0., 0., 0., 0., 0., 0., 0., 0., 0., 0., 0., 0.],\n",
       "         [0., 0., 0., 0., 0., 0., 0., 0., 0., 0., 0., 0.],\n",
       "         [0., 0., 0., 0., 0., 0., 0., 0., 0., 0., 0., 0.],\n",
       "         [0., 0., 0., 0., 0., 0., 0., 0., 0., 0., 0., 0.]]))"
      ]
     },
     "execution_count": 37,
     "metadata": {},
     "output_type": "execute_result"
    }
   ],
   "source": [
    "tensor_a, tensor_b, tensor_c"
   ]
  },
  {
   "cell_type": "code",
   "execution_count": 38,
   "id": "3c4079fd",
   "metadata": {},
   "outputs": [
    {
     "data": {
      "text/plain": [
       "(torch.Size([8, 4]), torch.Size([4, 12]))"
      ]
     },
     "execution_count": 38,
     "metadata": {},
     "output_type": "execute_result"
    }
   ],
   "source": [
    "tensor_a.shape, tensor_b.shape"
   ]
  },
  {
   "cell_type": "code",
   "execution_count": 34,
   "id": "3590acf3",
   "metadata": {},
   "outputs": [
    {
     "data": {
      "text/plain": [
       "((8, 4), (4, 12))"
      ]
     },
     "execution_count": 34,
     "metadata": {},
     "output_type": "execute_result"
    }
   ],
   "source": [
    "(A, D), (D, B)"
   ]
  },
  {
   "cell_type": "code",
   "execution_count": 45,
   "id": "51d4662d",
   "metadata": {},
   "outputs": [],
   "source": [
    "stride_a_A = tensor_a.stride(0)\n",
    "stride_a_D = tensor_a.stride(1)\n",
    "\n",
    "stride_b_D = tensor_b.stride(0)\n",
    "stride_b_B = tensor_b.stride(1)\n",
    "\n",
    "stride_c_A = tensor_c.stride(0)\n",
    "stride_c_B = tensor_c.stride(1)"
   ]
  },
  {
   "cell_type": "code",
   "execution_count": 46,
   "id": "c1c9439d",
   "metadata": {},
   "outputs": [
    {
     "data": {
      "text/plain": [
       "(4, 1)"
      ]
     },
     "execution_count": 46,
     "metadata": {},
     "output_type": "execute_result"
    }
   ],
   "source": [
    "stride_a_A, stride_a_D"
   ]
  },
  {
   "cell_type": "code",
   "execution_count": 47,
   "id": "cc81df4f",
   "metadata": {},
   "outputs": [
    {
     "data": {
      "text/plain": [
       "(12, 1)"
      ]
     },
     "execution_count": 47,
     "metadata": {},
     "output_type": "execute_result"
    }
   ],
   "source": [
    "stride_b_D, stride_b_B"
   ]
  },
  {
   "cell_type": "code",
   "execution_count": 48,
   "id": "b5fcbe03",
   "metadata": {},
   "outputs": [
    {
     "data": {
      "text/plain": [
       "(12, 1)"
      ]
     },
     "execution_count": 48,
     "metadata": {},
     "output_type": "execute_result"
    }
   ],
   "source": [
    "stride_c_A, stride_c_B"
   ]
  },
  {
   "cell_type": "code",
   "execution_count": 49,
   "id": "11579a1d",
   "metadata": {},
   "outputs": [],
   "source": [
    "offsets_A = pid_A * BLOCK_SIZE_A + torch.arange(0, BLOCK_SIZE_A)\n",
    "offsets_B = pid_B * BLOCK_SIZE_B + torch.arange(0, BLOCK_SIZE_B)\n",
    "offsets_D = torch.arange(0, BLOCK_SIZE_D)"
   ]
  },
  {
   "cell_type": "code",
   "execution_count": 50,
   "id": "16850563",
   "metadata": {},
   "outputs": [
    {
     "data": {
      "text/plain": [
       "(tensor([0, 1, 2, 3]), tensor([ 6,  7,  8,  9, 10, 11]), tensor([0, 1]))"
      ]
     },
     "execution_count": 50,
     "metadata": {},
     "output_type": "execute_result"
    }
   ],
   "source": [
    "offsets_A, offsets_B, offsets_D"
   ]
  },
  {
   "cell_type": "code",
   "execution_count": 51,
   "id": "f84613f4",
   "metadata": {},
   "outputs": [],
   "source": [
    "offsets_a = offsets_A[:, None] * stride_a_A + offsets_D[None, :] * stride_a_D\n",
    "offsets_b = offsets_D[:, None] * stride_b_D + offsets_B[None, :] * stride_b_B"
   ]
  },
  {
   "cell_type": "code",
   "execution_count": 55,
   "id": "165075f8",
   "metadata": {},
   "outputs": [
    {
     "data": {
      "text/plain": [
       "tensor([0, 1, 2, 3])"
      ]
     },
     "execution_count": 55,
     "metadata": {},
     "output_type": "execute_result"
    }
   ],
   "source": [
    "offsets_A"
   ]
  },
  {
   "cell_type": "code",
   "execution_count": 57,
   "id": "b21c517e",
   "metadata": {},
   "outputs": [
    {
     "data": {
      "text/plain": [
       "tensor([[ 0],\n",
       "        [ 4],\n",
       "        [ 8],\n",
       "        [12]])"
      ]
     },
     "execution_count": 57,
     "metadata": {},
     "output_type": "execute_result"
    }
   ],
   "source": [
    "offsets_A[:, None] * stride_a_A"
   ]
  },
  {
   "cell_type": "code",
   "execution_count": 52,
   "id": "b7855b0b",
   "metadata": {},
   "outputs": [
    {
     "data": {
      "text/plain": [
       "(torch.Size([4, 2]), torch.Size([2, 6]))"
      ]
     },
     "execution_count": 52,
     "metadata": {},
     "output_type": "execute_result"
    }
   ],
   "source": [
    "offsets_a.shape, offsets_b.shape"
   ]
  },
  {
   "cell_type": "code",
   "execution_count": 54,
   "id": "aa58fbd0",
   "metadata": {},
   "outputs": [
    {
     "data": {
      "text/plain": [
       "(tensor([[ 0,  1],\n",
       "         [ 4,  5],\n",
       "         [ 8,  9],\n",
       "         [12, 13]]),\n",
       " tensor([[ 6,  7,  8,  9, 10, 11],\n",
       "         [18, 19, 20, 21, 22, 23]]))"
      ]
     },
     "execution_count": 54,
     "metadata": {},
     "output_type": "execute_result"
    }
   ],
   "source": [
    "offsets_a, offsets_b"
   ]
  }
 ],
 "metadata": {
  "kernelspec": {
   "display_name": "newtorch",
   "language": "python",
   "name": "python3"
  },
  "language_info": {
   "codemirror_mode": {
    "name": "ipython",
    "version": 3
   },
   "file_extension": ".py",
   "mimetype": "text/x-python",
   "name": "python",
   "nbconvert_exporter": "python",
   "pygments_lexer": "ipython3",
   "version": "3.10.13"
  }
 },
 "nbformat": 4,
 "nbformat_minor": 5
}
